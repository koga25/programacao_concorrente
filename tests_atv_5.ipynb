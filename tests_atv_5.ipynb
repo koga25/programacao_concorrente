{
 "cells": [
  {
   "cell_type": "code",
   "execution_count": 1,
   "metadata": {},
   "outputs": [],
   "source": [
    "import subprocess as subp\n",
    "import matplotlib.pyplot as plt\n",
    "import numpy as np\n",
    "import json\n",
    "import time"
   ]
  },
  {
   "cell_type": "code",
   "execution_count": 2,
   "metadata": {},
   "outputs": [],
   "source": [
    "concurrent_clients_tests = [1, 5, 10, 20, 40, 80]"
   ]
  },
  {
   "cell_type": "code",
   "execution_count": 3,
   "metadata": {},
   "outputs": [],
   "source": [
    "address = \"localhost\"\n",
    "tcp_port = \"1234\"\n",
    "rcp_port = \"8001\"\n",
    "rmq_port = \"5672\""
   ]
  },
  {
   "cell_type": "code",
   "execution_count": 4,
   "metadata": {},
   "outputs": [
    {
     "data": {
      "text/plain": [
       "<Popen: returncode: None args: ['go', 'run', './Atividade_5/rmqServer.go', '...>"
      ]
     },
     "execution_count": 4,
     "metadata": {},
     "output_type": "execute_result"
    }
   ],
   "source": [
    "# TCP Server\n",
    "subp.Popen([\"go\", \"run\", \"./Atividade_3/tcp/tcpServer.go\", tcp_port], stdout=subp.DEVNULL)\n",
    "# RPC Server\n",
    "subp.Popen([\"go\", \"run\", \"./Atividade_4/rpcServer.go\", rcp_port], stdout=subp.DEVNULL)\n",
    "# RabbitMQ Server\n",
    "subp.Popen([\"go\", \"run\", \"./Atividade_5/rmqServer.go\", rmq_port], stdout=subp.DEVNULL)"
   ]
  },
  {
   "cell_type": "code",
   "execution_count": 5,
   "metadata": {},
   "outputs": [
    {
     "name": "stdout",
     "output_type": "stream",
     "text": [
      "Now testing for 1 concurrent clients.\n",
      "Now testing for 5 concurrent clients.\n",
      "Now testing for 10 concurrent clients.\n",
      "Now testing for 20 concurrent clients.\n",
      "Now testing for 40 concurrent clients.\n",
      "Now testing for 80 concurrent clients.\n"
     ]
    }
   ],
   "source": [
    "for client_num in concurrent_clients_tests:\n",
    "    print(f\"Now testing for {client_num} concurrent clients.\")\n",
    "\n",
    "    json_file_name = f\"test_{client_num}.json\"\n",
    "\n",
    "    # TCP Clients\n",
    "    for i in range(client_num-1):\n",
    "        subp.Popen([\"go\", \"run\", \"./Atividade_3/tcp/tcpClient.go\", f\"{address}:{tcp_port}\", \"false\"],\n",
    "        stdout=subp.DEVNULL\n",
    "    )\n",
    "    # Last client needs to measure time RTT and return it as a mean of durations.\n",
    "    current_client_num_rtt = subp.check_call(\n",
    "        [\"go\", \"run\", \"./Atividade_3/tcp/tcpClient.go\", f\"{address}:{tcp_port}\", \"true\", f\"./Atividade_3/tcp/{json_file_name}\"],\n",
    "        stdout=subp.DEVNULL\n",
    "    )"
   ]
  },
  {
   "cell_type": "code",
   "execution_count": 6,
   "metadata": {},
   "outputs": [
    {
     "name": "stdout",
     "output_type": "stream",
     "text": [
      "Now testing for 1 concurrent clients.\n",
      "Now testing for 5 concurrent clients.\n",
      "Now testing for 10 concurrent clients.\n",
      "Now testing for 20 concurrent clients.\n",
      "Now testing for 40 concurrent clients.\n",
      "Now testing for 80 concurrent clients.\n"
     ]
    }
   ],
   "source": [
    "for client_num in concurrent_clients_tests:\n",
    "    print(f\"Now testing for {client_num} concurrent clients.\")\n",
    "\n",
    "    json_file_name = f\"test_{client_num}.json\"\n",
    "\n",
    "    # RPC Clients\n",
    "    for i in range(client_num-1):\n",
    "        subp.Popen([\"go\", \"run\", \"./Atividade_4/rpcClient.go\", f\"{address}:{rcp_port}\", \"false\"],\n",
    "        stdout=subp.DEVNULL\n",
    "    )\n",
    "    # Last client needs to measure time RTT and return it as a mean of durations.\n",
    "    current_client_num_rtt = subp.check_call(\n",
    "        [\"go\", \"run\", \"./Atividade_4/rpcClient.go\", f\"{address}:{rcp_port}\", \"true\", f\"./Atividade_4/{json_file_name}\"],\n",
    "        stdout=subp.DEVNULL\n",
    "    )"
   ]
  },
  {
   "cell_type": "code",
   "execution_count": 8,
   "metadata": {},
   "outputs": [
    {
     "name": "stdout",
     "output_type": "stream",
     "text": [
      "Now testing for 1 concurrent clients.\n",
      "saiu daqui\n",
      "Now testing for 5 concurrent clients.\n",
      "saiu daqui\n"
     ]
    }
   ],
   "source": [
    "for client_num in concurrent_clients_tests:\n",
    "    print(f\"Now testing for {client_num} concurrent clients.\")\n",
    "\n",
    "    json_file_name = f\"test_{client_num}.json\"\n",
    "\n",
    "    # RabbitMQ Clients\n",
    "    for i in range(client_num-1):\n",
    "        subp.Popen([\"go\", \"run\", \"./Atividade_5/rmqClient.go\", f\"{address}:{rmq_port}\", \"false\"],\n",
    "        stdout=subp.DEVNULL\n",
    "    )\n",
    "    print(\"saiu daqui\")\n",
    "    # Last client needs to measure time RTT and return it as a mean of durations.\n",
    "    current_client_num_rtt = subp.check_call(\n",
    "        [\"go\", \"run\", \"./Atividade_5/rmqClient.go\", f\"{address}:{rmq_port}\", \"true\", f\"./Atividade_5/{json_file_name}\"],\n",
    "        stdout=subp.DEVNULL\n",
    "    )\n",
    "    print(\"tá salvando os arquivos\")"
   ]
  },
  {
   "cell_type": "code",
   "execution_count": null,
   "metadata": {},
   "outputs": [],
   "source": [
    "file_names = [\n",
    "    \"test_1.json\", \"test_5.json\", \"test_10.json\",\n",
    "    \"test_20.json\", \"test_40.json\", \"test_80.json\",\n",
    "]\n",
    "\n",
    "concurrent_clients_tcp_rtt = []\n",
    "concurrent_clients_rpc_rtt = []\n",
    "concurrent_clients_rmq_rtt = []"
   ]
  },
  {
   "cell_type": "code",
   "execution_count": null,
   "metadata": {},
   "outputs": [],
   "source": [
    "for file_name in file_names:\n",
    "    json_file = open(f\"./Atividade_3/tcp/{file_name}\", 'r')\n",
    "    tcp_rtts = json.load(json_file)\n",
    "    json_file.close()\n",
    "\n",
    "    json_file = open(f\"./Atividade_4/{file_name}\", 'r')\n",
    "    rpc_rtts = json.load(json_file)\n",
    "    json_file.close()\n",
    "\n",
    "    json_file = open(f\"./Atividade_5/{file_name}\", 'r')\n",
    "    rmq_rtts = json.load(json_file)\n",
    "    json_file.close()\n",
    "\n",
    "    mean_tcp_rtt = round((sum(tcp_rtts) / len(tcp_rtts)) / 10000, 2)\n",
    "    mean_rpc_rtt = round((sum(rpc_rtts) / len(rpc_rtts)) / 10000, 2)\n",
    "    mean_rmq_rtt = round((sum(rmq_rtts) / len(rmq_rtts)) / 10000, 2)\n",
    "\n",
    "    concurrent_clients_tcp_rtt.append(mean_tcp_rtt)\n",
    "    concurrent_clients_rpc_rtt.append(mean_rpc_rtt)\n",
    "    concurrent_clients_rmq_rtt.append(mean_rmq_rtt)"
   ]
  },
  {
   "cell_type": "code",
   "execution_count": null,
   "metadata": {},
   "outputs": [],
   "source": [
    "x = np.arange(len(concurrent_clients_tests))  # the label locations\n",
    "width = 0.35  # the width of the bars\n",
    "  \n",
    "tcp_bar = plt.bar(x - width/2, concurrent_clients_tcp_rtt, width, label = 'TCP')\n",
    "rpc_bar = plt.bar(x + width/2, concurrent_clients_rpc_rtt, width, label = 'RPC')\n",
    "rmq_bar = plt.bar(x + width/2, concurrent_clients_rmq_rtt, width, label = 'RMQ')\n",
    "\n",
    "\n",
    "plt.xticks(x, concurrent_clients_tests)\n",
    "plt.xlabel(\"Quantidade de clientes concorrentes\")\n",
    "plt.ylabel(\"Média de RTT entre 10000 requisições\\nEscala: 1 : 10000 microsegundos.\")\n",
    "plt.title(\"Diferenças de performance entre aplicações usando TCP, RPC e RMQ\\nem diversas quantidades de clientes concorrentes\")\n",
    "plt.legend()\n",
    "\n",
    "plt.bar_label(tcp_bar, padding=3)\n",
    "plt.bar_label(rpc_bar, padding=3)\n",
    "plt.bar_label(rmq_bar, padding=3)\n",
    "\n",
    "plt.savefig(\"./atv_5_graphs.png\")\n",
    "plt.show()"
   ]
  }
 ],
 "metadata": {
  "kernelspec": {
   "display_name": "Python 3.10.4 64-bit",
   "language": "python",
   "name": "python3"
  },
  "language_info": {
   "codemirror_mode": {
    "name": "ipython",
    "version": 3
   },
   "file_extension": ".py",
   "mimetype": "text/x-python",
   "name": "python",
   "nbconvert_exporter": "python",
   "pygments_lexer": "ipython3",
   "version": "3.10.4"
  },
  "orig_nbformat": 4,
  "vscode": {
   "interpreter": {
    "hash": "916dbcbb3f70747c44a77c7bcd40155683ae19c65e1c03b4aa3499c5328201f1"
   }
  }
 },
 "nbformat": 4,
 "nbformat_minor": 2
}
