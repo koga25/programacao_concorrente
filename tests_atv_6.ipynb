{
 "cells": [
  {
   "cell_type": "code",
   "execution_count": 2,
   "metadata": {},
   "outputs": [],
   "source": [
    "\n",
    "import subprocess as subp\n",
    "import matplotlib.pyplot as plt\n",
    "import numpy as np\n",
    "import json\n",
    "import time"
   ]
  },
  {
   "cell_type": "code",
   "execution_count": 3,
   "metadata": {},
   "outputs": [
    {
     "name": "stdout",
     "output_type": "stream",
     "text": [
      "0 test.\n",
      "1 test.\n",
      "2 test.\n",
      "3 test.\n",
      "4 test.\n",
      "5 test.\n",
      "6 test.\n",
      "7 test.\n",
      "8 test.\n",
      "9 test.\n"
     ]
    }
   ],
   "source": [
    "subp.Popen([\"go\", \"run\", \"./Atividade_6/rmqClient.go\", \"5672\"], stdout=subp.DEVNULL)\n",
    "for i in range(0, 10):\n",
    "    print(f\"{i} test.\")\n",
    "\n",
    "    subp.Popen([\"go\", \"run\", \"./Atividade_6/rmqClient.go\", \"5672\"], stdout=subp.DEVNULL)\n",
    "    # Last client needs to measure time RTT and return it as a mean of durations.\n",
    "    current_client_num_rtt = subp.check_call(\n",
    "        [\"go\", \"run\", \"./Atividade_6/rmqClient.go\", \"5672\"],\n",
    "        stdout=subp.DEVNULL\n",
    "    )\n",
    "    time.sleep(45)\n"
   ]
  }
 ],
 "metadata": {
  "kernelspec": {
   "display_name": "Python 3.9.10 64-bit",
   "language": "python",
   "name": "python3"
  },
  "language_info": {
   "codemirror_mode": {
    "name": "ipython",
    "version": 3
   },
   "file_extension": ".py",
   "mimetype": "text/x-python",
   "name": "python",
   "nbconvert_exporter": "python",
   "pygments_lexer": "ipython3",
   "version": "3.9.10"
  },
  "orig_nbformat": 4,
  "vscode": {
   "interpreter": {
    "hash": "81794d4967e6c3204c66dcd87b604927b115b27c00565d3d43f05ba2f3a2cb0d"
   }
  }
 },
 "nbformat": 4,
 "nbformat_minor": 2
}
