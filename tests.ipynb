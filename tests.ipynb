{
 "cells": [
  {
   "cell_type": "code",
   "execution_count": 1,
   "metadata": {},
   "outputs": [],
   "source": [
    "import subprocess as subp\n",
    "import matplotlib.pyplot as plt\n",
    "import numpy as np\n",
    "import json\n",
    "import time"
   ]
  },
  {
   "cell_type": "code",
   "execution_count": 2,
   "metadata": {},
   "outputs": [],
   "source": [
    "concurrent_clients_tests = [1, 5, 10, 20, 40, 80]"
   ]
  },
  {
   "cell_type": "code",
   "execution_count": 3,
   "metadata": {},
   "outputs": [],
   "source": [
    "address = \"localhost\"\n",
    "port = \"8005\""
   ]
  },
  {
   "cell_type": "code",
   "execution_count": 4,
   "metadata": {},
   "outputs": [
    {
     "data": {
      "text/plain": [
       "<subprocess.Popen at 0x7fb2d5c52940>"
      ]
     },
     "execution_count": 4,
     "metadata": {},
     "output_type": "execute_result"
    }
   ],
   "source": [
    "# TCP Server\n",
    "subp.Popen([\"go\", \"run\", \"./Atividade_3/tcp/tcpServer.go\", port], stdout=subp.DEVNULL)\n",
    "\n",
    "# UDP Server\n",
    "subp.Popen([\"go\", \"run\", \"./Atividade_3/udp/udpServer.go\", port], stdout=subp.DEVNULL)"
   ]
  },
  {
   "cell_type": "code",
   "execution_count": 7,
   "metadata": {},
   "outputs": [
    {
     "name": "stdout",
     "output_type": "stream",
     "text": [
      "Now testing for 1 concurrent clients.\n",
      "The data for this tests will be stored in test_1.json\n",
      "Now testing for 5 concurrent clients.\n",
      "The data for this tests will be stored in test_5.json\n",
      "Now testing for 10 concurrent clients.\n",
      "The data for this tests will be stored in test_10.json\n",
      "Now testing for 20 concurrent clients.\n",
      "The data for this tests will be stored in test_20.json\n",
      "Now testing for 40 concurrent clients.\n",
      "The data for this tests will be stored in test_40.json\n",
      "Now testing for 80 concurrent clients.\n",
      "The data for this tests will be stored in test_80.json\n"
     ]
    }
   ],
   "source": [
    "for client_num in concurrent_clients_tests:\n",
    "   print(f\"Now testing for {client_num} concurrent clients.\")\n",
    "\n",
    "   # TCP Clients\n",
    "   for i in range(client_num-1):\n",
    "      subp.Popen([\"go\", \"run\", \"./Atividade_3/tcp/tcpServer.go\", f\"{address}:{port}\", \"false\"],\n",
    "      stdout=subp.DEVNULL\n",
    "   )\n",
    "   # Last client needs to measure time RTT and return it as a mean of durations.\n",
    "   current_client_num_rtt = subp.check_call(\n",
    "      [\"go\", \"run\", \"./Atividade_3/tcp/tcpClient.go\", f\"{address}:{port}\", \"true\", f\"./Atividade_3/tcp/{json_file_name}\"],\n",
    "      stdout=subp.DEVNULL\n",
    "   )"
   ]
  },
  {
   "cell_type": "code",
   "execution_count": 8,
   "metadata": {},
   "outputs": [
    {
     "name": "stdout",
     "output_type": "stream",
     "text": [
      "Now testing for 1 concurrent clients.\n",
      "The data for this tests will be stored in test_1.json\n",
      "Now testing for 5 concurrent clients.\n",
      "The data for this tests will be stored in test_5.json\n",
      "Now testing for 10 concurrent clients.\n",
      "The data for this tests will be stored in test_10.json\n",
      "Now testing for 20 concurrent clients.\n",
      "The data for this tests will be stored in test_20.json\n",
      "Now testing for 40 concurrent clients.\n",
      "The data for this tests will be stored in test_40.json\n",
      "Now testing for 80 concurrent clients.\n",
      "The data for this tests will be stored in test_80.json\n"
     ]
    }
   ],
   "source": [
    "for client_num in concurrent_clients_tests:\n",
    "   print(f\"Now testing for {client_num} concurrent clients.\")\n",
    "\n",
    "   # UDP Clients\n",
    "   for i in range(client_num-1):\n",
    "      subp.Popen([\"go\", \"run\", \"./Atividade_3/udp/udpClient.go\", f\"{address}:{port}\", \"false\"],\n",
    "      stdout=subp.DEVNULL\n",
    "   )\n",
    "   # Last client needs to measure time RTT and return it as a mean of durations.\n",
    "   current_client_num_rtt = subp.check_call(\n",
    "      [\"go\", \"run\", \"./Atividade_3/udp/udpClient.go\", f\"{address}:{port}\", \"true\", f\"./Atividade_3/udp/{json_file_name}\"],\n",
    "      stdout=subp.DEVNULL\n",
    "   )"
   ]
  },
  {
   "cell_type": "code",
   "execution_count": 24,
   "metadata": {},
   "outputs": [],
   "source": [
    "file_names = [\n",
    "    \"test_1.json\", \"test_5.json\", \"test_10.json\",\n",
    "    \"test_20.json\", \"test_40.json\", \"test_80.json\",\n",
    "]\n",
    "\n",
    "concurrent_clients_tcp_rtt = []\n",
    "concurrent_clients_udp_rtt = []"
   ]
  },
  {
   "cell_type": "code",
   "execution_count": 25,
   "metadata": {},
   "outputs": [],
   "source": [
    "for file_name in file_names:\n",
    "    json_file = open(f\"./Atividade_3/tcp/{file_name}\", 'r')\n",
    "    tcp_rtts = json.load(json_file)\n",
    "    json_file.close()\n",
    "\n",
    "    json_file = open(f\"./Atividade_3/udp/{file_name}\", 'r')\n",
    "    udp_rtts = json.load(json_file)\n",
    "    json_file.close()\n",
    "\n",
    "    mean_tcp_rtt = round((sum(tcp_rtts) / len(tcp_rtts)) / 10000, 2)\n",
    "    mean_udp_rtt = round((sum(udp_rtts) / len(udp_rtts)) / 10000, 2)\n",
    "\n",
    "    concurrent_clients_tcp_rtt.append(mean_tcp_rtt)\n",
    "    concurrent_clients_udp_rtt.append(mean_udp_rtt)"
   ]
  },
  {
   "cell_type": "code",
   "execution_count": 29,
   "metadata": {},
   "outputs": [
    {
     "data": {
      "image/png": "[encoded data removed]",
      "text/plain": [
       "<Figure size 432x288 with 1 Axes>"
      ]
     },
     "metadata": {
      "needs_background": "light"
     },
     "output_type": "display_data"
    }
   ],
   "source": [
    "x = np.arange(len(concurrent_clients_tests))  # the label locations\n",
    "width = 0.35  # the width of the bars\n",
    "  \n",
    "tcp_bar = plt.bar(x - width/2, concurrent_clients_tcp_rtt, width, label = 'TCP')\n",
    "udp_bar = plt.bar(x + width/2, concurrent_clients_udp_rtt, width, label = 'UDP')\n",
    "\n",
    "plt.xticks(x, concurrent_clients_tests)\n",
    "plt.xlabel(\"Quantidade de clientes concorrentes\")\n",
    "plt.ylabel(\"Média de RTT entre 10000 requisições\\nEscala: 1 : 10000 microsegundos.\")\n",
    "plt.title(\"Diferenças de performance entre aplicações usando TCP e UDP\\nem diversas quantidades de clientes concorrentes\")\n",
    "plt.legend()\n",
    "\n",
    "plt.bar_label(tcp_bar, padding=3)\n",
    "plt.bar_label(udp_bar, padding=3)\n",
    "\n",
    "plt.savefig(\"./graphs.png\")\n",
    "plt.show()"
   ]
  }
 ],
 "metadata": {
  "kernelspec": {
   "display_name": "Python 3.8.10 64-bit",
   "language": "python",
   "name": "python3"
  },
  "language_info": {
   "codemirror_mode": {
    "name": "ipython",
    "version": 3
   },
   "file_extension": ".py",
   "mimetype": "text/x-python",
   "name": "python",
   "nbconvert_exporter": "python",
   "pygments_lexer": "ipython3",
   "version": "3.8.10"
  },
  "orig_nbformat": 4,
  "vscode": {
   "interpreter": {
    "hash": "916dbcbb3f70747c44a77c7bcd40155683ae19c65e1c03b4aa3499c5328201f1"
   }
  }
 },
 "nbformat": 4,
 "nbformat_minor": 2
}
